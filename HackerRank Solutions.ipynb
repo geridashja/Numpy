{
 "cells": [
  {
   "cell_type": "markdown",
   "metadata": {},
   "source": [
    "# 1) Arrays"
   ]
  },
  {
   "cell_type": "code",
   "execution_count": null,
   "metadata": {},
   "outputs": [],
   "source": [
    "import numpy as np\n",
    "\n",
    "def arrays(arr):\n",
    "    arr = numpy.array(arr).astype(float)\n",
    "    return arr[::-1]"
   ]
  },
  {
   "cell_type": "markdown",
   "metadata": {},
   "source": [
    "# 2) Shape and Reshape"
   ]
  },
  {
   "cell_type": "code",
   "execution_count": null,
   "metadata": {},
   "outputs": [],
   "source": [
    "import numpy as np\n",
    "lista = np.array(list(map(int,input().strip(' ').split())))\n",
    "lista2 = np.reshape(lista,(3,3))\n",
    "print(lista2)"
   ]
  },
  {
   "cell_type": "markdown",
   "metadata": {},
   "source": [
    "# 3) Sum and Prod"
   ]
  },
  {
   "cell_type": "code",
   "execution_count": null,
   "metadata": {},
   "outputs": [],
   "source": [
    "import numpy as np\n",
    "\n",
    "r,c = map(int,input().split()) \n",
    "\n",
    "lista = []\n",
    "for i in range(r):\n",
    "    a= list(map(int,input().split()))\n",
    "    lista.append(a)\n",
    "\n",
    "b = np.sum(lista,axis=0)\n",
    "print(np.prod(b))"
   ]
  },
  {
   "cell_type": "markdown",
   "metadata": {},
   "source": [
    "# 4) Inner and Outer"
   ]
  },
  {
   "cell_type": "code",
   "execution_count": null,
   "metadata": {},
   "outputs": [],
   "source": [
    "import numpy as np\n",
    "\n",
    "a = np.array(list(map(int,input().split())))\n",
    "b = np.array(list(map(int,input().split())))\n",
    "\n",
    "print(np.inner(a,b))\n",
    "print(np.outer(a,b))\n"
   ]
  },
  {
   "cell_type": "markdown",
   "metadata": {},
   "source": [
    "# 5) Linear Algebra"
   ]
  },
  {
   "cell_type": "code",
   "execution_count": null,
   "metadata": {},
   "outputs": [],
   "source": [
    "import numpy as np\n",
    "\n",
    "n = int(input())\n",
    "lista = []\n",
    "for i in range(n):\n",
    "    a= list(map(float,input().split()))\n",
    "    lista.append(a)\n",
    "a = np.array(lista)\n",
    "np.round(a,2)\n",
    "print(np.linalg.det(a))"
   ]
  },
  {
   "cell_type": "markdown",
   "metadata": {},
   "source": [
    "# 6) Concatenate"
   ]
  },
  {
   "cell_type": "code",
   "execution_count": null,
   "metadata": {},
   "outputs": [],
   "source": [
    "import numpy as np\n",
    "\n",
    "n,m,p = map(int,input().split())\n",
    "\n",
    "list1 = []\n",
    "for i in range(n):\n",
    "    a = list(map(int,input().split()))\n",
    "    list1.append(a)\n",
    "\n",
    "list2= []\n",
    "for i in range(m):\n",
    "    b = list(map(int,input().split()))\n",
    "    list2.append(b)\n",
    "\n",
    "print(np.concatenate((list1, list2)))"
   ]
  },
  {
   "cell_type": "markdown",
   "metadata": {},
   "source": [
    "# 7) Transpose and Flatten"
   ]
  },
  {
   "cell_type": "code",
   "execution_count": null,
   "metadata": {},
   "outputs": [],
   "source": [
    "import numpy as np\n",
    "\n",
    "r,c = map(int,input().split())\n",
    "\n",
    "lista = []\n",
    "for i in range(r):\n",
    "    a = list(map(int,input().split()))\n",
    "    lista.append(a)\n",
    "arr = np.array(lista)\n",
    "\n",
    "print(np.transpose(arr))\n",
    "print(arr.flatten())"
   ]
  },
  {
   "cell_type": "markdown",
   "metadata": {},
   "source": [
    "# 8) Zeros and Ones"
   ]
  },
  {
   "cell_type": "code",
   "execution_count": null,
   "metadata": {},
   "outputs": [],
   "source": [
    "import numpy as np\n",
    "\n",
    "a = tuple(map(int,input().split()))\n",
    "print(np.zeros(a).astype(int))\n",
    "print(np.ones(a).astype(int))"
   ]
  },
  {
   "cell_type": "markdown",
   "metadata": {},
   "source": [
    "# 9) Dot and Cross\n",
    "\n"
   ]
  },
  {
   "cell_type": "code",
   "execution_count": null,
   "metadata": {},
   "outputs": [],
   "source": [
    "import numpy as np\n",
    "\n",
    "a = int(input())\n",
    "\n",
    "arr1 = []\n",
    "for i in range(a):\n",
    "    b = list(map(int,input().split()))\n",
    "    arr1.append(b)\n",
    "\n",
    "arr2 = []\n",
    "for i in range(a):\n",
    "    c = list(map(int,input().split()))\n",
    "    arr2.append(c)\n",
    "    \n",
    "print(np.dot(arr1,arr2))"
   ]
  },
  {
   "cell_type": "markdown",
   "metadata": {},
   "source": [
    "# 10) Array Mathematics"
   ]
  },
  {
   "cell_type": "code",
   "execution_count": null,
   "metadata": {},
   "outputs": [],
   "source": [
    "import numpy as np\n",
    "\n",
    "r,c = map(int,input().split())\n",
    "\n",
    "\n",
    "lista1 = []\n",
    "for i in range(r):\n",
    "    a= list(map(int,input().split()))\n",
    "    lista1.append(a)\n",
    "\n",
    "lista2 = []\n",
    "for i in range(r):\n",
    "    a= list(map(int,input().split()))\n",
    "    lista2.append(a)\n",
    "\n",
    "print(np.add(lista1,lista2))\n",
    "print(np.subtract(lista1,lista2))\n",
    "print(np.multiply(lista1,lista2))\n",
    "print(np.divide(lista1,lista2).astype(int))\n",
    "print(np.mod(lista1,lista2))\n",
    "print(np.power(lista1,lista2))"
   ]
  },
  {
   "cell_type": "markdown",
   "metadata": {},
   "source": [
    "# 11) Floor, Ceil and Rint"
   ]
  },
  {
   "cell_type": "code",
   "execution_count": null,
   "metadata": {},
   "outputs": [],
   "source": [
    "import numpy as np\n",
    "\n",
    "np.set_printoptions(legacy='1.13')\n",
    "\n",
    "a = list(map(float,np.array(input().split())))\n",
    "\n",
    "print(np.floor(a))\n",
    "print(np.ceil(a))\n",
    "print(np.rint(a))"
   ]
  },
  {
   "cell_type": "markdown",
   "metadata": {},
   "source": [
    "# 12) Min and Max"
   ]
  },
  {
   "cell_type": "code",
   "execution_count": null,
   "metadata": {},
   "outputs": [],
   "source": [
    "import numpy as np\n",
    "\n",
    "r,c = map(int,input().split()) \n",
    "\n",
    "lista = []\n",
    "for i in range(r):\n",
    "    a= list(map(int,input().split()))\n",
    "    lista.append(a)\n",
    "\n",
    "    a = np.min(lista, axis=1)\n",
    "print(np.max(a))"
   ]
  },
  {
   "cell_type": "markdown",
   "metadata": {},
   "source": [
    "# 13) Mean, Var, and Std"
   ]
  },
  {
   "cell_type": "code",
   "execution_count": null,
   "metadata": {},
   "outputs": [],
   "source": [
    "import numpy as np\n",
    "\n",
    "r,c = map(int,input().split()) \n",
    "\n",
    "lista = []\n",
    "for i in range(r):\n",
    "    a= list(map(int,input().split()))\n",
    "    lista.append(a)\n",
    "\n",
    "\n",
    "print(np.mean(lista, axis=1))\n",
    "print(np.var(lista, axis=0))\n",
    "std = np.std(lista)\n",
    "ra = np.around(std, 11)\n",
    "print(ra)"
   ]
  },
  {
   "cell_type": "markdown",
   "metadata": {},
   "source": [
    "# 14) Polynomials"
   ]
  },
  {
   "cell_type": "code",
   "execution_count": null,
   "metadata": {},
   "outputs": [],
   "source": [
    "import numpy as np\n",
    "\n",
    "a=list(map(float,input().split()))\n",
    "x=int(input())\n",
    "print(np.polyval(a, x))"
   ]
  },
  {
   "cell_type": "markdown",
   "metadata": {},
   "source": [
    "# 15) Eye and Identity"
   ]
  },
  {
   "cell_type": "code",
   "execution_count": null,
   "metadata": {},
   "outputs": [],
   "source": [
    "import numpy as np\n",
    "\n",
    "x,y = map(int, input().split())\n",
    "np.set_printoptions(sign=' ')\n",
    "print(np.eye(x,y))"
   ]
  }
 ],
 "metadata": {
  "kernelspec": {
   "display_name": "Python 3",
   "language": "python",
   "name": "python3"
  },
  "language_info": {
   "codemirror_mode": {
    "name": "ipython",
    "version": 3
   },
   "file_extension": ".py",
   "mimetype": "text/x-python",
   "name": "python",
   "nbconvert_exporter": "python",
   "pygments_lexer": "ipython3",
   "version": "3.9.0"
  }
 },
 "nbformat": 4,
 "nbformat_minor": 4
}
